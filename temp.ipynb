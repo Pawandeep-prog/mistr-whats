{
 "cells": [
  {
   "cell_type": "code",
   "execution_count": 9,
   "metadata": {},
   "outputs": [
    {
     "name": "stderr",
     "output_type": "stream",
     "text": [
      "2023-12-31 09:34:03,381 - INFO - Reading chats from ['./chats/_chat.txt']\n"
     ]
    }
   ],
   "source": [
    "import glob \n",
    "import re\n",
    "import json\n",
    "from constants import *\n",
    "from utils.logger import *\n",
    "import sys\n",
    "\n",
    "if BOT_NAME==\"\":    \n",
    "    logger.info(\"Please set up BOT_NAME in the constants.py\")\n",
    "    sys.exit(1)\n",
    "\n",
    "chat_paths = glob.glob(\"./chats/*.txt\")\n",
    "logger.info(f\"Reading chats from {chat_paths}\")"
   ]
  },
  {
   "cell_type": "code",
   "execution_count": 10,
   "metadata": {},
   "outputs": [],
   "source": [
    "def contains_deleted_or_omitted(message):\n",
    "    keywords = [\"omitted\", \"This message was deleted.\", \"You deleted this message\"]\n",
    "    for keyword in keywords:\n",
    "        if keyword in message:\n",
    "            return True\n",
    "    return False\n",
    "\n",
    "def rm_square_brackets(message):\n",
    "    return re.sub(r'\\[.*?\\]', '', message).strip()"
   ]
  },
  {
   "cell_type": "code",
   "execution_count": 11,
   "metadata": {},
   "outputs": [
    {
     "name": "stderr",
     "output_type": "stream",
     "text": [
      "2023-12-31 09:34:03,710 - INFO - Cleaning .... ./chats/_chat.txt\n"
     ]
    }
   ],
   "source": [
    "## main object of conatining all chats\n",
    "json_list = []\n",
    "\n",
    "## reading chat file\n",
    "for file_ in chat_paths:\n",
    "    logger.info(f\"Cleaning .... {file_}\")\n",
    "    chats = open(file_, \"r\").read().split(\"\\n\")[1:]\n",
    "\n",
    "    ## first chat for setting prev_user = curr_user\n",
    "    init = True\n",
    "    prev_user = \"\"\n",
    "    msg_buffer = \"\"\n",
    "    ## contains cleaned final chat\n",
    "    chats_clean = []\n",
    "    \n",
    "    ## iterate in chats\n",
    "    for idx, txt in enumerate(chats):\n",
    "        ## remove square brackets i.e. timestamp\n",
    "        txt = rm_square_brackets(txt)\n",
    "        ## message is deleted/ media message\n",
    "        if(contains_deleted_or_omitted(txt)):\n",
    "            continue\n",
    "        \n",
    "        ## split to get username and message separate\n",
    "        split = txt.split(\":\")\n",
    "        ## message from same user\n",
    "        if(len(split) == 1):\n",
    "            msg_buffer += \" \"+txt\n",
    "            continue\n",
    "\n",
    "        user_name = split[0].strip()\n",
    "\n",
    "        if init:\n",
    "            init = False \n",
    "            prev_user = user_name\n",
    "        \n",
    "        if user_name != prev_user:\n",
    "            prefix = BOT_NAME+\":\" if prev_user == BOT_NAME else \"INPUT:\"\n",
    "            \n",
    "            chats_clean.append(prefix + msg_buffer.strip())\n",
    "            msg_buffer = \"\"\n",
    "        \n",
    "        prev_user = user_name\n",
    "        msg_buffer += \" \" + split[-1].strip()\n",
    "\n",
    "    for idx in range(0, len(chats_clean), 2):\n",
    "        user1, msg1 = chats_clean[idx].split(\":\")\n",
    "        user2, msg2 = chats_clean[idx+1].split(\":\")\n",
    "        json_list.append(\n",
    "            {\n",
    "                user1: msg1,\n",
    "                user2: msg2\n",
    "            }\n",
    "        )"
   ]
  },
  {
   "cell_type": "code",
   "execution_count": 12,
   "metadata": {},
   "outputs": [],
   "source": [
    "with open(\"./chats/clean_chats.json\", \"w\") as f:\n",
    "    f.write(json.dumps(json_list))"
   ]
  },
  {
   "cell_type": "code",
   "execution_count": null,
   "metadata": {},
   "outputs": [],
   "source": []
  },
  {
   "cell_type": "code",
   "execution_count": null,
   "metadata": {},
   "outputs": [],
   "source": []
  },
  {
   "cell_type": "code",
   "execution_count": null,
   "metadata": {},
   "outputs": [],
   "source": []
  }
 ],
 "metadata": {
  "kernelspec": {
   "display_name": "base",
   "language": "python",
   "name": "python3"
  },
  "language_info": {
   "codemirror_mode": {
    "name": "ipython",
    "version": 3
   },
   "file_extension": ".py",
   "mimetype": "text/x-python",
   "name": "python",
   "nbconvert_exporter": "python",
   "pygments_lexer": "ipython3",
   "version": "3.10.0"
  }
 },
 "nbformat": 4,
 "nbformat_minor": 2
}
